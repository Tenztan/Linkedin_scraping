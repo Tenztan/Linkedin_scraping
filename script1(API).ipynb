{
 "cells": [
  {
   "cell_type": "markdown",
   "metadata": {},
   "source": [
    "# script 1 using LinkedIn API"
   ]
  },
  {
   "cell_type": "code",
   "execution_count": 1,
   "metadata": {},
   "outputs": [
    {
     "name": "stdout",
     "output_type": "stream",
     "text": [
      "Collecting linkedin_api\n",
      "  Using cached linkedin_api-2.1.1-py3-none-any.whl.metadata (10 kB)\n",
      "Requirement already satisfied: requests in c:\\users\\amd ryzen\\appdata\\local\\programs\\python\\python39\\lib\\site-packages (from linkedin_api) (2.28.2)\n",
      "Requirement already satisfied: beautifulsoup4 in c:\\users\\amd ryzen\\appdata\\roaming\\python\\python39\\site-packages (from linkedin_api) (4.11.1)\n",
      "Requirement already satisfied: lxml in c:\\users\\amd ryzen\\appdata\\local\\programs\\python\\python39\\lib\\site-packages (from linkedin_api) (5.1.0)\n",
      "Requirement already satisfied: soupsieve>1.2 in c:\\users\\amd ryzen\\appdata\\roaming\\python\\python39\\site-packages (from beautifulsoup4->linkedin_api) (2.3.2.post1)\n",
      "Requirement already satisfied: charset-normalizer<4,>=2 in c:\\users\\amd ryzen\\appdata\\roaming\\python\\python39\\site-packages (from requests->linkedin_api) (2.1.0)\n",
      "Requirement already satisfied: idna<4,>=2.5 in c:\\users\\amd ryzen\\appdata\\local\\programs\\python\\python39\\lib\\site-packages (from requests->linkedin_api) (2.10)\n",
      "Requirement already satisfied: urllib3<1.27,>=1.21.1 in c:\\users\\amd ryzen\\appdata\\roaming\\python\\python39\\site-packages (from requests->linkedin_api) (1.26.11)\n",
      "Requirement already satisfied: certifi>=2017.4.17 in c:\\users\\amd ryzen\\appdata\\roaming\\python\\python39\\site-packages (from requests->linkedin_api) (2022.6.15)\n",
      "Using cached linkedin_api-2.1.1-py3-none-any.whl (23 kB)\n",
      "Installing collected packages: linkedin_api\n",
      "Successfully installed linkedin_api-2.1.1\n"
     ]
    },
    {
     "name": "stderr",
     "output_type": "stream",
     "text": [
      "\n",
      "[notice] A new release of pip is available: 23.3.2 -> 24.0\n",
      "[notice] To update, run: python.exe -m pip install --upgrade pip\n"
     ]
    }
   ],
   "source": [
    "pip install linkedin_api"
   ]
  },
  {
   "cell_type": "code",
   "execution_count": 2,
   "metadata": {},
   "outputs": [],
   "source": [
    "from linkedin_api import Linkedin\n",
    "import pandas as pd\n",
    "import time\n",
    "import getpass"
   ]
  },
  {
   "cell_type": "code",
   "execution_count": 8,
   "metadata": {},
   "outputs": [],
   "source": [
    "def login():\n",
    "    # Setting maximum try limit to 5 log-in attempts\n",
    "    max_attempts = 5\n",
    "    attempt = 0\n",
    "    api = None\n",
    "\n",
    "    while attempt < max_attempts:\n",
    "        try:\n",
    "            user = input('LinkedIN ID: ')\n",
    "\n",
    "            # To protect User privacy\n",
    "            passwd = getpass.getpass(\"Enter your password: \")\n",
    "\n",
    "            # Logging in in API\n",
    "            api = Linkedin(user, passwd)\n",
    "            return api\n",
    "        except Exception:\n",
    "            print(f\"Login failed. Error: Kindly check your credentials\")\n",
    "            attempt += 1\n",
    "            if attempt < max_attempts:\n",
    "                print(f\"Remaining attempts: {max_attempts - attempt}\")\n",
    "            else:\n",
    "                print(\"Maximum login attempts reached. Exiting.\")\n",
    "                return None\n",
    "\n",
    "\n",
    "def search_name():\n",
    "    # Getting name\n",
    "    name = input('Enter Name : ')\n",
    "    if name == '':\n",
    "        print('No name provided! Search will be conducted as per LinkedIn Blank search based on connections!\\n')\n",
    "        return None,None\n",
    "    try:\n",
    "        #If full name is provided\n",
    "        fname,lname = name.split(' ')\n",
    "        return fname,lname\n",
    "    except ValueError:\n",
    "        # If only firstname is provided\n",
    "        print('Proceeding without a lastname')\n",
    "        fname = name\n",
    "        return fname,None\n",
    "\n",
    "\n",
    "def profile_information_of_top_10_profiles(fname, lname=None):\n",
    "    print(f\"Searching for profiles with first name: {fname} and last name: {lname}\")\n",
    "    \n",
    "    # Getting URN ID from search_people function of API\n",
    "    search_results = [urn['urn_id'] for urn in api.search_people(keyword_first_name=fname, keyword_last_name=lname, limit=100)[:10]]\n",
    "    \n",
    "    print(f\"Search results: {search_results}\")\n",
    "    \n",
    "    if not search_results:\n",
    "        print(\"No search results found.\")\n",
    "        return []\n",
    "    \n",
    "    # Getting Profile Information from URN_ID from get_profile function\n",
    "    profile_info = [pd.DataFrame([api.get_profile(urn_id=id)]) for id in search_results]\n",
    "    return profile_info\n",
    "\n",
    "\n",
    "def save_data(profiles):\n",
    "    try:\n",
    "        # Getting dataframe with all top entires\n",
    "        data = pd.concat(profiles,axis=0)\n",
    "\n",
    "         # Replacing empty lists by NaN\n",
    "        data = data.applymap(lambda x: None if isinstance(x, list) and len(x) == 0 else x)\n",
    "\n",
    "        # Getting import information in the first indexes for better readability\n",
    "        desired_column_order = ['profile_id','firstName','lastName','summary','education','experience','headline','industryName']\n",
    "        desired_column_order.extend(col for col in data.columns if col not in desired_column_order)\n",
    "        data = data[desired_column_order]\n",
    "        \n",
    "        # Saving data\n",
    "        data.to_csv('Results')\n",
    "        print('Data Saved!!!')\n",
    "        return data  #Just for review purpose\n",
    "        \n",
    "    except Exception:\n",
    "        print('No user found!\\nNo data Saved!')\n",
    "        return None\n",
    "    "
   ]
  },
  {
   "cell_type": "code",
   "execution_count": 12,
   "metadata": {},
   "outputs": [
    {
     "name": "stdout",
     "output_type": "stream",
     "text": [
      "Congratulations, you are permitted to use LinkedIN API\n",
      "\n",
      "\n",
      "\n",
      "Proceeding without a lastname\n",
      "Searching for profiles with first name: daniel and last name: None\n",
      "Search results: []\n",
      "No search results found.\n",
      "No user found!\n",
      "No data Saved!\n",
      "Total runtime: 64.81 seconds\n"
     ]
    }
   ],
   "source": [
    "start_time = time.time()\n",
    "\n",
    "api = login()\n",
    "if api:\n",
    "    print('Congratulations, you are permitted to use LinkedIN API\\n\\n\\n')\n",
    "    first_name,last_name = search_name()\n",
    "    profiles_info = profile_information_of_top_10_profiles(fname=first_name,lname=last_name)\n",
    "    data = save_data(profiles_info)\n",
    "\n",
    "    end_time = time.time()\n",
    "    total_runtime = end_time - start_time\n",
    "    print(f\"Total runtime: {total_runtime:.2f} seconds\")\n",
    "    \n",
    "else:\n",
    "    exit()"
   ]
  }
 ],
 "metadata": {
  "kernelspec": {
   "display_name": "Python 3 (ipykernel)",
   "language": "python",
   "name": "python3"
  },
  "language_info": {
   "codemirror_mode": {
    "name": "ipython",
    "version": 3
   },
   "file_extension": ".py",
   "mimetype": "text/x-python",
   "name": "python",
   "nbconvert_exporter": "python",
   "pygments_lexer": "ipython3",
   "version": "3.9.13"
  }
 },
 "nbformat": 4,
 "nbformat_minor": 2
}
